{
 "cells": [
  {
   "cell_type": "markdown",
   "id": "e3e1518a",
   "metadata": {},
   "source": [
    "### Używamy słowa def, aby stoworzyć funkcję"
   ]
  },
  {
   "cell_type": "code",
   "execution_count": 5,
   "id": "011ff2b9",
   "metadata": {},
   "outputs": [],
   "source": [
    "def sum(a,b): return a+b"
   ]
  },
  {
   "cell_type": "markdown",
   "id": "e06c7fcb",
   "metadata": {},
   "source": [
    "żeby wywołać tą funkcję używamy nawiasów okrągłych"
   ]
  },
  {
   "cell_type": "code",
   "execution_count": 6,
   "id": "22f7bd5a",
   "metadata": {},
   "outputs": [
    {
     "data": {
      "text/plain": [
       "6"
      ]
     },
     "execution_count": 6,
     "metadata": {},
     "output_type": "execute_result"
    }
   ],
   "source": [
    "sum(1,5)"
   ]
  }
 ],
 "metadata": {
  "kernelspec": {
   "display_name": "Python 3 (ipykernel)",
   "language": "python",
   "name": "python3"
  },
  "language_info": {
   "codemirror_mode": {
    "name": "ipython",
    "version": 3
   },
   "file_extension": ".py",
   "mimetype": "text/x-python",
   "name": "python",
   "nbconvert_exporter": "python",
   "pygments_lexer": "ipython3",
   "version": "3.10.10"
  }
 },
 "nbformat": 4,
 "nbformat_minor": 5
}
